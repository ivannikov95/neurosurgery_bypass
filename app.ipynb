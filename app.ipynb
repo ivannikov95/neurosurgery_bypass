{
 "cells": [
  {
   "cell_type": "code",
   "execution_count": 1,
   "metadata": {},
   "outputs": [],
   "source": [
    "import pandas as pd\n",
    "import numpy as np\n",
    "import matplotlib.pyplot as plt\n",
    "import seaborn as sns\n",
    "from sklearn.model_selection import train_test_split, StratifiedKFold, GridSearchCV\n",
    "from sklearn.preprocessing import StandardScaler\n",
    "from sklearn.pipeline import Pipeline\n",
    "from sklearn.linear_model import LogisticRegression\n",
    "from sklearn.ensemble import RandomForestClassifier\n",
    "from sklearn.metrics import (\n",
    "    roc_auc_score, average_precision_score, f1_score,\n",
    "    precision_score, recall_score, matthews_corrcoef, roc_curve,\n",
    "    classification_report, confusion_matrix, RocCurveDisplay\n",
    ")\n",
    "from sklearn.pipeline import Pipeline\n",
    "from sklearn.model_selection import StratifiedKFold, cross_val_predict, GridSearchCV\n",
    "from sklearn.metrics import (\n",
    "    roc_auc_score, precision_recall_curve, roc_curve,\n",
    "    f1_score, recall_score, confusion_matrix\n",
    ")"
   ]
  },
  {
   "cell_type": "code",
   "execution_count": 2,
   "metadata": {},
   "outputs": [],
   "source": [
    "df = pd.read_csv('/Users/got2b/Desktop/НИИ СП им. Н.В. Склифосовского ДЗМ/Отделение лучевой диагностики/Гюльнара Кирамовна/ml_models/ml_model.csv')"
   ]
  },
  {
   "cell_type": "code",
   "execution_count": 3,
   "metadata": {},
   "outputs": [
    {
     "data": {
      "text/html": [
       "<div>\n",
       "<style scoped>\n",
       "    .dataframe tbody tr th:only-of-type {\n",
       "        vertical-align: middle;\n",
       "    }\n",
       "\n",
       "    .dataframe tbody tr th {\n",
       "        vertical-align: top;\n",
       "    }\n",
       "\n",
       "    .dataframe thead th {\n",
       "        text-align: right;\n",
       "    }\n",
       "</style>\n",
       "<table border=\"1\" class=\"dataframe\">\n",
       "  <thead>\n",
       "    <tr style=\"text-align: right;\">\n",
       "      <th></th>\n",
       "      <th>Несостоятельность_ЭИКМА</th>\n",
       "      <th>Пол</th>\n",
       "      <th>Стеноз_НСА</th>\n",
       "      <th>Диам_ПВА</th>\n",
       "      <th>Сахарный_диабет</th>\n",
       "      <th>Мультифокальный_атеросклероз</th>\n",
       "      <th>ЛСК_донора</th>\n",
       "      <th>ОК_донора</th>\n",
       "      <th>Возраст</th>\n",
       "      <th>Курение</th>\n",
       "      <th>Диаметр_ПВА x 10</th>\n",
       "      <th>Диам_донора х 10</th>\n",
       "    </tr>\n",
       "  </thead>\n",
       "  <tbody>\n",
       "    <tr>\n",
       "      <th>0</th>\n",
       "      <td>0</td>\n",
       "      <td>1</td>\n",
       "      <td>0</td>\n",
       "      <td>2.3</td>\n",
       "      <td>0</td>\n",
       "      <td>2</td>\n",
       "      <td>39.0</td>\n",
       "      <td>43.0</td>\n",
       "      <td>56</td>\n",
       "      <td>1</td>\n",
       "      <td>23.0</td>\n",
       "      <td>11.0</td>\n",
       "    </tr>\n",
       "    <tr>\n",
       "      <th>1</th>\n",
       "      <td>0</td>\n",
       "      <td>1</td>\n",
       "      <td>0</td>\n",
       "      <td>2.5</td>\n",
       "      <td>0</td>\n",
       "      <td>2</td>\n",
       "      <td>28.0</td>\n",
       "      <td>36.0</td>\n",
       "      <td>58</td>\n",
       "      <td>1</td>\n",
       "      <td>25.0</td>\n",
       "      <td>13.0</td>\n",
       "    </tr>\n",
       "    <tr>\n",
       "      <th>2</th>\n",
       "      <td>0</td>\n",
       "      <td>2</td>\n",
       "      <td>50</td>\n",
       "      <td>2.4</td>\n",
       "      <td>0</td>\n",
       "      <td>1</td>\n",
       "      <td>28.0</td>\n",
       "      <td>25.0</td>\n",
       "      <td>78</td>\n",
       "      <td>2</td>\n",
       "      <td>24.0</td>\n",
       "      <td>9.0</td>\n",
       "    </tr>\n",
       "    <tr>\n",
       "      <th>3</th>\n",
       "      <td>0</td>\n",
       "      <td>1</td>\n",
       "      <td>0</td>\n",
       "      <td>2.2</td>\n",
       "      <td>1</td>\n",
       "      <td>1</td>\n",
       "      <td>32.0</td>\n",
       "      <td>41.0</td>\n",
       "      <td>66</td>\n",
       "      <td>1</td>\n",
       "      <td>22.0</td>\n",
       "      <td>13.0</td>\n",
       "    </tr>\n",
       "    <tr>\n",
       "      <th>4</th>\n",
       "      <td>0</td>\n",
       "      <td>1</td>\n",
       "      <td>45</td>\n",
       "      <td>2.4</td>\n",
       "      <td>0</td>\n",
       "      <td>2</td>\n",
       "      <td>39.0</td>\n",
       "      <td>46.0</td>\n",
       "      <td>48</td>\n",
       "      <td>2</td>\n",
       "      <td>24.0</td>\n",
       "      <td>12.0</td>\n",
       "    </tr>\n",
       "    <tr>\n",
       "      <th>...</th>\n",
       "      <td>...</td>\n",
       "      <td>...</td>\n",
       "      <td>...</td>\n",
       "      <td>...</td>\n",
       "      <td>...</td>\n",
       "      <td>...</td>\n",
       "      <td>...</td>\n",
       "      <td>...</td>\n",
       "      <td>...</td>\n",
       "      <td>...</td>\n",
       "      <td>...</td>\n",
       "      <td>...</td>\n",
       "    </tr>\n",
       "    <tr>\n",
       "      <th>184</th>\n",
       "      <td>0</td>\n",
       "      <td>1</td>\n",
       "      <td>0</td>\n",
       "      <td>2.4</td>\n",
       "      <td>0</td>\n",
       "      <td>1</td>\n",
       "      <td>30.0</td>\n",
       "      <td>45.0</td>\n",
       "      <td>70</td>\n",
       "      <td>1</td>\n",
       "      <td>24.0</td>\n",
       "      <td>15.0</td>\n",
       "    </tr>\n",
       "    <tr>\n",
       "      <th>185</th>\n",
       "      <td>0</td>\n",
       "      <td>1</td>\n",
       "      <td>0</td>\n",
       "      <td>2.3</td>\n",
       "      <td>0</td>\n",
       "      <td>2</td>\n",
       "      <td>34.0</td>\n",
       "      <td>41.0</td>\n",
       "      <td>71</td>\n",
       "      <td>2</td>\n",
       "      <td>23.0</td>\n",
       "      <td>12.0</td>\n",
       "    </tr>\n",
       "    <tr>\n",
       "      <th>186</th>\n",
       "      <td>0</td>\n",
       "      <td>1</td>\n",
       "      <td>0</td>\n",
       "      <td>2.0</td>\n",
       "      <td>0</td>\n",
       "      <td>2</td>\n",
       "      <td>36.0</td>\n",
       "      <td>43.0</td>\n",
       "      <td>39</td>\n",
       "      <td>1</td>\n",
       "      <td>20.0</td>\n",
       "      <td>12.0</td>\n",
       "    </tr>\n",
       "    <tr>\n",
       "      <th>187</th>\n",
       "      <td>0</td>\n",
       "      <td>1</td>\n",
       "      <td>30</td>\n",
       "      <td>2.5</td>\n",
       "      <td>0</td>\n",
       "      <td>1</td>\n",
       "      <td>26.0</td>\n",
       "      <td>26.0</td>\n",
       "      <td>64</td>\n",
       "      <td>1</td>\n",
       "      <td>25.0</td>\n",
       "      <td>10.0</td>\n",
       "    </tr>\n",
       "    <tr>\n",
       "      <th>188</th>\n",
       "      <td>0</td>\n",
       "      <td>1</td>\n",
       "      <td>0</td>\n",
       "      <td>2.1</td>\n",
       "      <td>0</td>\n",
       "      <td>1</td>\n",
       "      <td>28.0</td>\n",
       "      <td>36.0</td>\n",
       "      <td>80</td>\n",
       "      <td>2</td>\n",
       "      <td>21.0</td>\n",
       "      <td>13.0</td>\n",
       "    </tr>\n",
       "  </tbody>\n",
       "</table>\n",
       "<p>189 rows × 12 columns</p>\n",
       "</div>"
      ],
      "text/plain": [
       "     Несостоятельность_ЭИКМА  Пол  Стеноз_НСА  Диам_ПВА  Сахарный_диабет  \\\n",
       "0                          0    1           0       2.3                0   \n",
       "1                          0    1           0       2.5                0   \n",
       "2                          0    2          50       2.4                0   \n",
       "3                          0    1           0       2.2                1   \n",
       "4                          0    1          45       2.4                0   \n",
       "..                       ...  ...         ...       ...              ...   \n",
       "184                        0    1           0       2.4                0   \n",
       "185                        0    1           0       2.3                0   \n",
       "186                        0    1           0       2.0                0   \n",
       "187                        0    1          30       2.5                0   \n",
       "188                        0    1           0       2.1                0   \n",
       "\n",
       "     Мультифокальный_атеросклероз  ЛСК_донора  ОК_донора  Возраст  Курение  \\\n",
       "0                               2        39.0       43.0       56        1   \n",
       "1                               2        28.0       36.0       58        1   \n",
       "2                               1        28.0       25.0       78        2   \n",
       "3                               1        32.0       41.0       66        1   \n",
       "4                               2        39.0       46.0       48        2   \n",
       "..                            ...         ...        ...      ...      ...   \n",
       "184                             1        30.0       45.0       70        1   \n",
       "185                             2        34.0       41.0       71        2   \n",
       "186                             2        36.0       43.0       39        1   \n",
       "187                             1        26.0       26.0       64        1   \n",
       "188                             1        28.0       36.0       80        2   \n",
       "\n",
       "     Диаметр_ПВА x 10  Диам_донора х 10  \n",
       "0                23.0              11.0  \n",
       "1                25.0              13.0  \n",
       "2                24.0               9.0  \n",
       "3                22.0              13.0  \n",
       "4                24.0              12.0  \n",
       "..                ...               ...  \n",
       "184              24.0              15.0  \n",
       "185              23.0              12.0  \n",
       "186              20.0              12.0  \n",
       "187              25.0              10.0  \n",
       "188              21.0              13.0  \n",
       "\n",
       "[189 rows x 12 columns]"
      ]
     },
     "execution_count": 3,
     "metadata": {},
     "output_type": "execute_result"
    }
   ],
   "source": [
    "df"
   ]
  },
  {
   "cell_type": "code",
   "execution_count": 15,
   "metadata": {},
   "outputs": [],
   "source": [
    "df = df.drop('Диам_ПВА', axis=1)"
   ]
  },
  {
   "cell_type": "code",
   "execution_count": 16,
   "metadata": {},
   "outputs": [],
   "source": [
    "X = df.drop('Несостоятельность_ЭИКМА', axis=1)\n",
    "y = df['Несостоятельность_ЭИКМА']"
   ]
  },
  {
   "cell_type": "code",
   "execution_count": 22,
   "metadata": {},
   "outputs": [
    {
     "data": {
      "image/png": "[encoded data removed]",
      "text/plain": [
       "<Figure size 1000x800 with 1 Axes>"
      ]
     },
     "metadata": {},
     "output_type": "display_data"
    }
   ],
   "source": [
    "# 2) Отбор предикторов RandomForest и визуализация важности\n",
    "rf_sel = RandomForestClassifier(random_state=42, class_weight='balanced')\n",
    "rf_sel.fit(X, y)\n",
    "importances = pd.Series(rf_sel.feature_importances_, index=X.columns)\n",
    "feat_threshold = 0.1\n",
    "sorted_importances = importances.sort_values(ascending=True)\n",
    "colors = sorted_importances.apply(lambda x: 'green' if x > feat_threshold else 'red')\n",
    "plt.figure(figsize=(10, 8))\n",
    "sorted_importances.plot(kind='barh', color=colors)\n",
    "plt.axvline(x=feat_threshold, color='red', linestyle='--', linewidth=2)\n",
    "plt.title('Feature Importances (RandomForest)')\n",
    "plt.xlabel('Importance')\n",
    "plt.ylabel('Features')\n",
    "plt.tight_layout()\n",
    "plt.show()"
   ]
  },
  {
   "cell_type": "code",
   "execution_count": 23,
   "metadata": {},
   "outputs": [
    {
     "name": "stdout",
     "output_type": "stream",
     "text": [
      "Selected features (importance > 0.1): ['ЛСК_донора', 'ОК_донора', 'Возраст', 'Диам_донора х 10']\n"
     ]
    }
   ],
   "source": [
    "# Выбор признаков выше порога\n",
    "selected_features = importances[importances > feat_threshold].index.tolist()\n",
    "print(f\"Selected features (importance > {feat_threshold}):\", selected_features)\n",
    "X_sel = X[selected_features]"
   ]
  },
  {
   "cell_type": "code",
   "execution_count": 24,
   "metadata": {},
   "outputs": [],
   "source": [
    "# 3) Пайплайны моделей\n",
    "lr_pipe = Pipeline([\n",
    "    ('scaler', StandardScaler()),\n",
    "    ('clf', LogisticRegression(random_state=42, class_weight='balanced', solver='liblinear'))\n",
    "])\n",
    "rf_pipe = Pipeline([\n",
    "    ('clf', RandomForestClassifier(random_state=42, class_weight='balanced', n_jobs=-1))\n",
    "])"
   ]
  },
  {
   "cell_type": "code",
   "execution_count": 25,
   "metadata": {},
   "outputs": [
    {
     "name": "stdout",
     "output_type": "stream",
     "text": [
      "Best LR params (AUC): {'clf__C': 1, 'clf__penalty': 'l1'}\n",
      "Best RF params (AUC): {'clf__max_depth': 10, 'clf__min_samples_split': 2, 'clf__n_estimators': 100}\n"
     ]
    }
   ],
   "source": [
    "# 4) CV и подбор гиперпараметров (по AUC)\n",
    "cv = StratifiedKFold(n_splits=5, shuffle=True, random_state=42)\n",
    "param_grid_lr = {'clf__C': [0.01, 0.1, 1, 10], 'clf__penalty': ['l1', 'l2']}\n",
    "param_grid_rf = {'clf__n_estimators': [100, 200, 500], 'clf__max_depth': [None, 5, 10], 'clf__min_samples_split': [2, 5, 10]}\n",
    "\n",
    "grid_lr = GridSearchCV(lr_pipe, param_grid_lr, cv=cv, scoring='roc_auc', n_jobs=-1)\n",
    "grid_rf = GridSearchCV(rf_pipe, param_grid_rf, cv=cv, scoring='roc_auc', n_jobs=-1)\n",
    "grid_lr.fit(X_sel, y)\n",
    "grid_rf.fit(X_sel, y)\n",
    "print(\"Best LR params (AUC):\", grid_lr.best_params_)\n",
    "print(\"Best RF params (AUC):\", grid_rf.best_params_)\n",
    "\n",
    "best_lr = grid_lr.best_estimator_\n",
    "best_rf = grid_rf.best_estimator_"
   ]
  },
  {
   "cell_type": "code",
   "execution_count": 26,
   "metadata": {},
   "outputs": [],
   "source": [
    "# 5) CV-предсказания вероятностей для класса 1\n",
    "proba1_lr = cross_val_predict(best_lr, X_sel, y, cv=cv, method='predict_proba')[:, 1]\n",
    "proba1_rf = cross_val_predict(best_rf, X_sel, y, cv=cv, method='predict_proba')[:, 1]"
   ]
  },
  {
   "cell_type": "code",
   "execution_count": 27,
   "metadata": {},
   "outputs": [
    {
     "name": "stdout",
     "output_type": "stream",
     "text": [
      "Optimal threshold by Youden's J LR = 0.58\n",
      "Optimal threshold by Youden's J RF = 0.05\n"
     ]
    }
   ],
   "source": [
    "# 6) Поиск оптимального порога по Youden's J (максимум TPR-FPR)\n",
    "fpr_lr, tpr_lr, thr_lr = roc_curve(y, proba1_lr)\n",
    "youden_lr = tpr_lr - fpr_lr\n",
    "best_idx_lr = np.argmax(youden_lr)\n",
    "best_thr_lr = thr_lr[best_idx_lr]\n",
    "\n",
    "fpr_rf, tpr_rf, thr_rf = roc_curve(y, proba1_rf)\n",
    "youden_rf = tpr_rf - fpr_rf\n",
    "best_idx_rf = np.argmax(youden_rf)\n",
    "best_thr_rf = thr_rf[best_idx_rf]\n",
    "\n",
    "print(f\"Optimal threshold by Youden's J LR = {best_thr_lr:.2f}\")\n",
    "print(f\"Optimal threshold by Youden's J RF = {best_thr_rf:.2f}\")"
   ]
  },
  {
   "cell_type": "code",
   "execution_count": 28,
   "metadata": {},
   "outputs": [
    {
     "name": "stdout",
     "output_type": "stream",
     "text": [
      "\n",
      "Metrics for class 1 (непроходимость):\n",
      "\n",
      "=== LogisticRegression ===\n",
      "Threshold: 0.584\n",
      "AUC: 0.729\n",
      "Sensitivity: 0.706\n",
      "Specificity: 0.860\n",
      "F1-score: 0.453\n",
      "\n",
      "=== RandomForest ===\n",
      "Threshold: 0.050\n",
      "AUC: 0.815\n",
      "Sensitivity: 0.824\n",
      "Specificity: 0.709\n",
      "F1-score: 0.346\n"
     ]
    }
   ],
   "source": [
    "# 7) Оценка метрик при найденных порогах для класса 1\n",
    "results = {}\n",
    "for name, proba, thr in [('LogisticRegression', proba1_lr, best_thr_lr), ('RandomForest', proba1_rf, best_thr_rf)]:\n",
    "    y_pred = (proba >= thr).astype(int)\n",
    "    tn, fp, fn, tp = confusion_matrix(y, y_pred).ravel()\n",
    "    sensitivity = recall_score(y, y_pred)\n",
    "    specificity = tn / (tn + fp)\n",
    "    auc = roc_auc_score(y, proba)\n",
    "    results[name] = {'Threshold': thr, 'AUC': auc, 'Sensitivity': sensitivity, 'Specificity': specificity, 'F1-score': f1_score(y, y_pred)}\n",
    "\n",
    "print(\"\\nMetrics for class 1 (непроходимость):\")\n",
    "for model, metrics in results.items():\n",
    "    print(f\"\\n=== {model} ===\")\n",
    "    for metric, val in metrics.items():\n",
    "        print(f\"{metric}: {val:.3f}\")"
   ]
  },
  {
   "cell_type": "code",
   "execution_count": 30,
   "metadata": {},
   "outputs": [
    {
     "data": {
      "text/plain": [
       "<matplotlib.legend.Legend at 0x16489f550>"
      ]
     },
     "execution_count": 30,
     "metadata": {},
     "output_type": "execute_result"
    },
    {
     "data": {
      "image/png": "[encoded data removed]",
      "text/plain": [
       "<Figure size 800x600 with 1 Axes>"
      ]
     },
     "metadata": {},
     "output_type": "display_data"
    }
   ],
   "source": [
    "# 8) Визуализация ROC кривых для класса 1\n",
    "plt.figure(figsize=(8, 6))\n",
    "plt.plot(fpr_lr, tpr_lr, label=f\"LR (AUC={roc_auc_score(y, proba1_lr):.3f})\")\n",
    "plt.plot(fpr_rf, tpr_rf, label=f\"RF (AUC={roc_auc_score(y, proba1_rf):.3f})\")\n",
    "plt.plot([0, 1], [0, 1], 'k--')\n",
    "plt.xlabel('FPR')\n",
    "plt.ylabel('TPR')\n",
    "plt.title('ROC Curve (class=1)')\n",
    "plt.legend()"
   ]
  },
  {
   "cell_type": "code",
   "execution_count": 31,
   "metadata": {},
   "outputs": [
    {
     "name": "stdout",
     "output_type": "stream",
     "text": [
      "Артефакты сохранены в папках models/ и artifacts/\n"
     ]
    }
   ],
   "source": [
    "import os, pickle\n",
    "\n",
    "# 1) Создайте папки рядом с вашим notebook'ом, если их нет\n",
    "os.makedirs('models', exist_ok=True)\n",
    "os.makedirs('artifacts', exist_ok=True)\n",
    "\n",
    "# 2) Сохраните модели\n",
    "with open('models/best_rf.pkl', 'wb') as f:\n",
    "    pickle.dump(best_rf, f)\n",
    "with open('models/best_lr.pkl', 'wb') as f:\n",
    "    pickle.dump(best_lr, f)\n",
    "\n",
    "# 3) Сохраните список признаков\n",
    "with open('artifacts/selected_features.pkl', 'wb') as f:\n",
    "    pickle.dump(selected_features, f)\n",
    "\n",
    "# 4) Сохраните пороги в словарь\n",
    "thresholds = {'rf': best_thr_rf, 'lr': best_thr_lr}\n",
    "with open('artifacts/thresholds.pkl', 'wb') as f:\n",
    "    pickle.dump(thresholds, f)\n",
    "\n",
    "print(\"Артефакты сохранены в папках models/ и artifacts/\")"
   ]
  },
  {
   "cell_type": "code",
   "execution_count": null,
   "metadata": {},
   "outputs": [],
   "source": []
  }
 ],
 "metadata": {
  "kernelspec": {
   "display_name": "base",
   "language": "python",
   "name": "python3"
  },
  "language_info": {
   "codemirror_mode": {
    "name": "ipython",
    "version": 3
   },
   "file_extension": ".py",
   "mimetype": "text/x-python",
   "name": "python",
   "nbconvert_exporter": "python",
   "pygments_lexer": "ipython3",
   "version": "3.11.5"
  }
 },
 "nbformat": 4,
 "nbformat_minor": 2
}
